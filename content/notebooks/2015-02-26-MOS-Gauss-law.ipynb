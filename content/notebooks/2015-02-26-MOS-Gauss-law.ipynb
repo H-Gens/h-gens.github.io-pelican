{
 "metadata": {
  "name": "",
  "signature": "sha256:a713c5e2c4d14cd94aa883ea44309bec959b46543adaf063d24e30e47732cb0d"
 },
 "nbformat": 3,
 "nbformat_minor": 0,
 "worksheets": [
  {
   "cells": [
    {
     "cell_type": "heading",
     "level": 1,
     "metadata": {},
     "source": [
      "Gauss's law as used in MOS derivations"
     ]
    },
    {
     "cell_type": "markdown",
     "metadata": {},
     "source": [
      "1.0 Introduction  \n",
      "----------------------\n",
      "\n",
      "There are two applications of [Gauss's Law](https://en.wikipedia.org/wiki/Gauss%27s_law) used in MOS derivations for computing the [surface potential equation](/mos-surface-potential-equation.html) (SPE).  One of the applications is also used in the formulation of semiconductor charge per unit area from the surface field that is found during the solution of Poisson's equation.  Some background is given before they are discussed.  "
     ]
    },
    {
     "cell_type": "markdown",
     "metadata": {},
     "source": [
      "2.0 Simplified one-dimensional MOS system  \n",
      "----------------\n",
      "\n",
      "The primary assumption is that of an oxide whose oxide-related defects are assumed to only exist at the oxide/semiconductor interface.  These defects are identified with the $Q_o'$ and $Q_{it}'$ variables.  The former is fixed charge that does not change in magnitude with band-bending.  The latter is from interface states, whose occupation does change with band-bending.  \n",
      "\n",
      "The secondary assumption is that the metal, oxide, and semiconductor layers each exist as uniform planes that stretch to infinity in the x and z directions.  The latter assumption permits one to apply Gauss's Law at some arbitrary location and have its result be valid at any location.  \n",
      "\n",
      "<center><img src=\"../images/2015-02-25-MOSCAP-derivations/mos_cross_section.png\"></center>\n",
      "\n",
      "3.0 Gauss's Law  \n",
      "----------------\n",
      "\n",
      "In differential form, Gauss's Law relates the divergence of electric field to charge density.  \n",
      "\n",
      "$$\\begin{aligned}\n",
      "\\nabla \\cdot \\overrightarrow{E} &= \\frac{\\rho}{\\epsilon}\n",
      "\\end{aligned}$$\n",
      "\n",
      "When a potential is applied between the metal and semiconductor layers, the electric field is one dimensional because of the uniform planarity mentioned above.  $\\overrightarrow{E}$ is now only composed of the y-direction component, $E_y$, where the subscript is dropped going forward.   \n",
      "\n",
      "$$\\begin{aligned}\n",
      "\\frac{dE}{dy} &= \\frac{\\rho}{\\epsilon} \\\\\n",
      "\\end{aligned}$$\n",
      "\n",
      "A one-dimensional application of Gauss's Law from point A to point B gives the following result.  $Q_{\\mbox{enclosed}}$ is the total charge contained in the region between A and B.  The subscripts A and B mean the quantity is to be evaluated at either A or B.  \n",
      "\n",
      "$$\\begin{aligned}\n",
      "\\int_A^B \\epsilon dE &= \\int_A^B \\rho dy \\\\\n",
      "\\epsilon_B \\cdot E_B - \\epsilon_A \\cdot E_A &= Q_{\\mbox{enclosed}}\n",
      "\\end{aligned}$$\n",
      "\n",
      "In the below applications of Gauss's Law it is always chosen that location A is above location B in the cross-section displayed above (stated mathematically, $y_A < y_B$).  \n",
      "\n",
      "<!--\n",
      "A Gaussian surface simply encloses some region where Gauss's Law is to be applied.  In this discussion, the Gaussian surfaces are carefully chosen cuboids that facilitate simplified application of Gauss's Law in an MOS device.  \n",
      "-->"
     ]
    },
    {
     "cell_type": "heading",
     "level": 2,
     "metadata": {},
     "source": [
      "4.0 Gauss's Law as applied to create the SPE"
     ]
    },
    {
     "cell_type": "markdown",
     "metadata": {},
     "source": [
      "### 4.1 Result #1 ###\n",
      "\n",
      "Consider the region surrounded by the box below.  Let the top/bottom sides of the box be just above/below the oxide/semiconductor interface.  That is, let the top be at $y_A=0^-$ and the bottom at $y_B=0^+$.  With these constraints, the box contains no semiconductor charge and only includes fixed/interface charge.  \n",
      "\n",
      "<center><img src=\"../images/2015-02-26-MOS-Gauss-law/gaussian_surface_result1.png\"></center>\n",
      "\n",
      "Henceforth, subscript A is replaced with 'ox' for oxide and subscript B replaced with 's' for semiconductor.  Applying Gauss's Law in the $y$-direction at any $(x, z)$ location gives:  \n",
      "\n",
      "$$\\begin{aligned}\n",
      "\\epsilon_s \\cdot E_s - \\epsilon_{ox} \\cdot E_{ox} &= Q_o' + Q_{it}'\n",
      "\\end{aligned}$$\n",
      "\n",
      "$Q_o'$ and $Q_{it}'$ are charges per unit area.  The \"prime\" superscript is what indicates that this quantity is a charge per unit area.  The units come out this way because $\\rho$ is charge per unit volume and is integrated with respect to distance.  \n",
      "\n",
      "> __Note:__ in the absence of oxide charge, $\\epsilon_s \\cdot E_s = \\epsilon_{ox} \\cdot E_{ox}$.  \n",
      "\n",
      "Both $Q_o'$ and $Q_{it}'$ are the same regardless of where Gauss's Law is applied due to the planar homogeneity assumed above.  "
     ]
    },
    {
     "cell_type": "markdown",
     "metadata": {},
     "source": [
      "### 4.2 Result #2 ###\n",
      "\n",
      "The following figure shows a box drawn just below the interface, extending to the bottom of the semiconductor.  Let the top be at $y_A=0^+$ and the bottom at the end of the semiconductor bulk where electric field has decayed to zero.  With these constraints the box only contains semiconductor charge.  \n",
      "\n",
      "<center><img src=\"../images/2015-02-26-MOS-Gauss-law/gaussian_surface_result2.png\"></center>\n",
      "\n",
      "Therefore, Gauss's Law gives:  \n",
      "\n",
      "$$\\begin{aligned}\n",
      "-\\epsilon_s \\cdot E_s &= Q_s'\n",
      "\\end{aligned}$$\n",
      "\n",
      "$Q_s'$ is the total semiconductor charge per unit area.  As with $Q_o'$ and $Q_{it}'$, it is the same regardless of the location chosen to apply Gauss's Law.  "
     ]
    }
   ],
   "metadata": {}
  }
 ]
}