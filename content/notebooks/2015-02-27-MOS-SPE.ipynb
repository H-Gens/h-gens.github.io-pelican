{
 "metadata": {
  "name": "",
  "signature": "sha256:20ebd20534c5fc2613304f4dcb828c88c4fdb9b3995bb55e2a7173f8b87c9b06"
 },
 "nbformat": 3,
 "nbformat_minor": 0,
 "worksheets": [
  {
   "cells": [
    {
     "cell_type": "heading",
     "level": 1,
     "metadata": {},
     "source": [
      "MOS surface potential equation derivation"
     ]
    },
    {
     "cell_type": "markdown",
     "metadata": {},
     "source": [
      "1.0 Introduction  \n",
      "-------------------\n",
      "\n",
      "The band-bending that occurs in the semiconductor of an MOS device is quantified as the surface potential, $\\psi_s$.  It is related to the applied gate-body bias by the \"surface potential equation\" (SPE), which is derived by combining the following items.  (For a brief discussion of band-bending see [Section 3.0](/mos-capacitor-derivation.html) of the MOSCAP derivation notebook.)  \n",
      "\n",
      "1. Two applications of Gauss's Law ([discussed here](/gausss-law-as-used-in-mos-derivations.html)).  \n",
      "2. The assumption that the oxide is charge free.  \n",
      "3. The potential balance equation.  \n",
      "\n",
      "Each of the above three items are explained in further detail below.  Afterward, they are combined to produce the SPE.  "
     ]
    },
    {
     "cell_type": "heading",
     "level": 2,
     "metadata": {},
     "source": [
      "2.0 Components of the SPE"
     ]
    },
    {
     "cell_type": "markdown",
     "metadata": {},
     "source": [
      "### 2.1 Result #1: Gauss's Law ###\n",
      "\n",
      "The results of the [two applications of Gauss's Law](/gausss-law-as-used-in-mos-derivations.html) are:  \n",
      "\n",
      "$$\\begin{aligned}\n",
      "\\epsilon_s \\cdot E_s - \\epsilon_{ox} \\cdot E_{ox} &= Q_o' + Q_{it}'  \\\\\n",
      "-\\epsilon_s \\cdot E_s &= Q_s'\n",
      "\\end{aligned}$$\n",
      "\n",
      "Substituting the second equation into the first equation gives an expression in terms of two charges per unit area and the oxide field.  \n",
      "\n",
      "$$\\begin{aligned}\n",
      "-(Q_o' + Q_{it}' + Q_s') &= \\epsilon_{ox} \\cdot E_{ox}\n",
      "\\end{aligned}$$"
     ]
    },
    {
     "cell_type": "markdown",
     "metadata": {},
     "source": [
      "### 2.2 Result #2: oxide without bulk charge ###\n",
      "\n",
      "If there is no charge within the oxide, the electric field must be constant.  This can be proven by considering Gauss's Law in a one-dimensional charge free region (e.g., $dE/dy = 0$ so $E$ must be a constant).  Therefore, the electric field, $E_{ox}$, is simply the oxide potential drop divided by the oxide thickness.  \n",
      "\n",
      "$$\\begin{aligned}\n",
      "E_{ox} &= \\frac{\\psi_{ox}}{t_{ox}}\n",
      "\\end{aligned}$$"
     ]
    },
    {
     "cell_type": "markdown",
     "metadata": {},
     "source": [
      "### 2.3 Result #3: potential balance equation ###\n",
      "\n",
      "The potential balance equation comes from performing a KVL around the MOS band diagram with the vacuum level ($E_{VAC}$) included.  While manuevering clockwise starting at the metal's Fermi level, a potential rise is positive and a drop is considered negative.  \n",
      "\n",
      "<center><img src=\"../images/2015-02-27-MOS-SPE/figure_1.png\"></center>\n",
      "\n",
      "$$\\begin{aligned}\n",
      "+\\phi_m + \\psi_{ox} + \\psi_s - \\phi_s - V_{gb} &= 0\n",
      "\\end{aligned}$$\n",
      "\n",
      "$\\phi_{ms} = \\phi_m - \\phi_s$ is the difference between the metal and semiconductor workfunctions, which leads to a more recognizable form of the above.  \n",
      "\n",
      "$$\\begin{aligned}\n",
      "V_{gb} &= \\psi_{ox} + \\psi_s + \\phi_{ms}\n",
      "\\end{aligned}$$"
     ]
    },
    {
     "cell_type": "markdown",
     "metadata": {},
     "source": [
      "3.0 The SPE  \n",
      "--------------------\n",
      "\n",
      "Substituting __Result #2__ into __Result #1__ gives:\n",
      "\n",
      "$$\\begin{aligned}\n",
      "-(Q_o' + Q_{it}' + Q_s') &= \\epsilon_{ox} \\cdot \\frac{\\psi_{ox}}{t_{ox}}  \\\\\n",
      " &= C_{ox}' \\cdot \\psi_{ox}\n",
      "\\end{aligned}$$\n",
      "\n",
      "The quantity $\\epsilon_{ox} / t_{ox}$ is hereafter replaced with $C_{ox}'$, which is the oxide capacitance per unit area.  Often, it is referred to as the oxide capacitance density.  After making this simplification, $\\psi_{ox}$ can be found.  \n",
      "\n",
      "$$\\begin{aligned}\n",
      "\\psi_{ox} &= \\frac{-(Q_o' + Q_{it}' + Q_s')}{C_{ox}'}  \\\\\n",
      "\\end{aligned}$$\n",
      "\n",
      "Inserting the above expression for $\\psi_{ox}$ into the __Result #3__ and simplifying gives the SPE.   \n",
      "\n",
      "$$\\begin{aligned}\n",
      "V_{gb} &= \\psi_s + \\phi_{ms} + \\frac{-(Q_o' + Q_{it}' + Q_s')}{C_{ox}'}\n",
      "\\end{aligned}$$\n",
      "\n",
      "A more commonly seen version is in terms of the flatband voltage, $V_{fb}$.  This is simply the value of $V_{gb}$ when $\\psi_s=0$.  When $\\psi_s$ is zero, $Q_s'$ is also zero (see [MOS derivation](/mos-capacitor-derivation.html)), so two of the terms in the SPE drop out.  The quantity $Q_{it}'(\\psi_s=0)$ is denoted $Q_{it0}$.  \n",
      "\n",
      "$$\\begin{aligned}\n",
      "V_{fb} &= \\phi_{ms} - \\frac{Q_o' + Q_{it0}'}{C_{ox}'} \n",
      "\\end{aligned}$$\n",
      "\n",
      "The above can be substituted back into the SPE so that it incorporates a flatband voltage term.  \n",
      "\n",
      "$$\\begin{aligned}\n",
      "V_{gb} &= \\psi_s + V_{fb} - \\frac{Q_{it}' - Q_{it0}' + Q_s'}{C_{ox}'}\n",
      "\\end{aligned}$$\n",
      "\n",
      "A more recognizable form of the SPE that is often found in textbooks occurs when $Q_{it}$ is zero.  \n",
      "\n",
      "$$\\begin{aligned}\n",
      "V_{gb} &= \\psi_s + V_{fb} - \\frac{Q_s'}{C_{ox}'}\n",
      "\\end{aligned}$$"
     ]
    }
   ],
   "metadata": {}
  }
 ]
}